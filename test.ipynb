{
 "cells": [
  {
   "cell_type": "code",
   "execution_count": 1,
   "id": "b65257ed",
   "metadata": {},
   "outputs": [],
   "source": [
    "import numpy as np\n",
    "\n",
    "def sample(preds, temperature = 1.0):\n",
    "    #sample so as to generate diverse literature\n",
    "    preds = np.asarray(preds).astype('float64')\n",
    "    preds = np.log(preds)/temperature\n",
    "    exp_preds = np.exp(preds)\n",
    "    preds = exp_preds/np.sum(exp_preds)\n",
    "    probs = np.random.multinomial(1, preds, 1) #sampling with n=1 experiment(s)\n",
    "    sampled = np.random.choice(range(len(chars)), p = probs.ravel())\n",
    "    return sampled\n",
    "\n",
    "import sys\n",
    "\n",
    "def generate(lit):\n",
    "    #lit gives you option to choose how long your literature shall be (characterwise)\n",
    "    generated = ''\n",
    "    user_input = input('Initialize your literature and the Shakespeare will complete the rest, else just press enter: ')\n",
    "    sentence = ('{0:0>' + str(nm) + '}').format(user_input).lower()\n",
    "    ls = len(sentence)\n",
    "    if ls>30:\n",
    "        sentence = sentence[ls-nm:]\n",
    "    generated+=user_input\n",
    "    sys.stdout.write('\\n\\n Here is your poem: \\n\\n')\n",
    "    sys.stdout.write(user_input) \n",
    "    for i in range(lit):\n",
    "        x_pred = np.zeros((1, nm, len(chars)))\n",
    "        for j, char in enumerate(sentence):\n",
    "            if char!='0':\n",
    "                x_pred[0, j, char_indices[char]] = 1\n",
    "        preds = model.predict(x_pred, verbose=0)[0]\n",
    "        next_index = sample(preds, temperature=1.0) #higher probability increases the probability of selecting a less likely character\n",
    "        next_char = indices_char[next_index]\n",
    "        generated+=next_char\n",
    "        sentence = sentence[1:] + next_char\n",
    "        sys.stdout.write(next_char)\n",
    "        sys.stdout.flush()\n",
    "        if next_char=='\\n':\n",
    "            continue"
   ]
  },
  {
   "cell_type": "code",
   "execution_count": 2,
   "id": "85c7ad5a",
   "metadata": {},
   "outputs": [],
   "source": [
    "from tensorflow import keras\n",
    "model = keras.models.load_model('./sakeswks.h5')"
   ]
  },
  {
   "cell_type": "code",
   "execution_count": 3,
   "id": "64266254",
   "metadata": {},
   "outputs": [
    {
     "name": "stdout",
     "output_type": "stream",
     "text": [
      "Model: \"model\"\n",
      "_________________________________________________________________\n",
      " Layer (type)                Output Shape              Param #   \n",
      "=================================================================\n",
      " input_1 (InputLayer)        [(None, 30, 39)]          0         \n",
      "                                                                 \n",
      " lstm (LSTM)                 (None, 30, 128)           86016     \n",
      "                                                                 \n",
      " dropout (Dropout)           (None, 30, 128)           0         \n",
      "                                                                 \n",
      " lstm_1 (LSTM)               (None, 128)               131584    \n",
      "                                                                 \n",
      " dropout_1 (Dropout)         (None, 128)               0         \n",
      "                                                                 \n",
      " dense (Dense)               (None, 39)                5031      \n",
      "                                                                 \n",
      "=================================================================\n",
      "Total params: 222,631\n",
      "Trainable params: 222,631\n",
      "Non-trainable params: 0\n",
      "_________________________________________________________________\n"
     ]
    }
   ],
   "source": [
    "model.summary()"
   ]
  },
  {
   "cell_type": "code",
   "execution_count": 4,
   "id": "1c65a644",
   "metadata": {},
   "outputs": [
    {
     "name": "stdout",
     "output_type": "stream",
     "text": [
      "Initialize your literature and the Shakespeare will complete the rest, else just press enter: aye the lord of the lords, heavy gunner\n",
      "\n",
      "\n",
      " Here is your poem: \n",
      "\n",
      "aye the lord of the lords, heavy gunner:\n",
      "the else as away to you\n",
      "and who to by your wakes him.\n",
      "\n",
      "king richard ii:\n",
      "ay, in mirles us! o lords, you hear, where thou that name than he with maids? away leave my way,\n",
      "they tet her sour, from unplainted to sweits.\n",
      "poke wibuls of hip; my lord.\n",
      "\n",
      "king richard iii:\n",
      "emeard the dain here cleubaring home.\n",
      "\n",
      "farson:\n",
      "caming and a, unlaied ersore; hease her hase.\n",
      "\n",
      "hores:\n",
      "side of deech shall attisbrest you, starom; what! hate untime, for he dewite:\n",
      "not appel pud you henry mistres; and he life edward\n",
      "ancheques:' we',"
     ]
    }
   ],
   "source": [
    "nm = 30\n",
    "import io\n",
    "corpus = io.open('1. corpus.txt', encoding='utf-8').read().lower()\n",
    "chars = sorted(list(set(corpus))) #to sample the uniques characters from the corpus\n",
    "char_indices = dict((c, i) for i, c in enumerate(chars))\n",
    "indices_char = dict((i, c) for i, c in enumerate(chars))\n",
    "\n",
    "generate(512)"
   ]
  },
  {
   "cell_type": "code",
   "execution_count": null,
   "id": "f0efb1cd",
   "metadata": {},
   "outputs": [],
   "source": []
  }
 ],
 "metadata": {
  "kernelspec": {
   "display_name": "Python 3 (ipykernel)",
   "language": "python",
   "name": "python3"
  },
  "language_info": {
   "codemirror_mode": {
    "name": "ipython",
    "version": 3
   },
   "file_extension": ".py",
   "mimetype": "text/x-python",
   "name": "python",
   "nbconvert_exporter": "python",
   "pygments_lexer": "ipython3",
   "version": "3.9.13"
  }
 },
 "nbformat": 4,
 "nbformat_minor": 5
}
